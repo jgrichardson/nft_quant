{
 "cells": [
  {
   "cell_type": "code",
   "execution_count": 48,
   "id": "28644aa7-e879-486c-b871-3e3b7a51cde0",
   "metadata": {},
   "outputs": [],
   "source": [
    "# Import the required libraries and dependencies\n",
    "\n",
    "import os\n",
    "import requests\n",
    "import json\n",
    "import pandas as pd\n",
    "from dotenv import load_dotenv\n",
    "import alpaca_trade_api as tradeapi\n",
    "from MCForecastTools import MCSimulation\n",
    "%matplotlib inline\n",
    "\n",
    "# import SDK libraries from OpenSea / MagicEden if/when available\n",
    "\n"
   ]
  },
  {
   "cell_type": "code",
   "execution_count": 49,
   "id": "e7b225f5-973f-4a21-8819-536faedb80a2",
   "metadata": {},
   "outputs": [
    {
     "data": {
      "text/plain": [
       "True"
      ]
     },
     "execution_count": 49,
     "metadata": {},
     "output_type": "execute_result"
    }
   ],
   "source": [
    "# Load the environment variables from the .env file\n",
    "#by calling the load_dotenv function\n",
    "load_dotenv()"
   ]
  },
  {
   "cell_type": "code",
   "execution_count": null,
   "id": "b0b2377f-665f-490e-b0c0-f4cfd8f017bd",
   "metadata": {},
   "outputs": [],
   "source": [
    "# Set the Free Crypto API Call endpoint URLs for the held cryptocurrency assets\n",
    "\n",
    "btc_url = \"https://api.alternative.me/v2/ticker/Bitcoin/?convert=USD\"\n",
    "eth_url = \"https://api.alternative.me/v2/ticker/Ethereum/?convert=USD\"\n"
   ]
  },
  {
   "cell_type": "code",
   "execution_count": null,
   "id": "a8cf636d-e4e2-45e0-b5b1-bd3700a0496a",
   "metadata": {},
   "outputs": [],
   "source": [
    "# Make an API call to access the current price of BTC\n",
    "\n",
    "btc_response = requests.get(btc_url).json()\n",
    "\n",
    "# Display the response data\n",
    "print(json.dumps(btc_response, indent=4, sort_keys=True))"
   ]
  },
  {
   "cell_type": "code",
   "execution_count": null,
   "id": "4b47d1ce-2d58-4570-958d-27bc857bec12",
   "metadata": {},
   "outputs": [],
   "source": [
    "# Make an API call to access the current price ETH\n",
    "eth_response = requests.get(eth_url).json()\n",
    "\n",
    "# Display the response data\n",
    "print(json.dumps(eth_response, indent=4, sort_keys=True))"
   ]
  },
  {
   "cell_type": "code",
   "execution_count": null,
   "id": "893b3f36-3599-4ca6-867a-ec1921070bc2",
   "metadata": {},
   "outputs": [],
   "source": [
    "# Navigate the BTC response object to access the current price of BTC\n",
    "btc_price = btc_response[\"data\"][\"1\"][\"quotes\"][\"USD\"][\"price\"]\n",
    "\n",
    "# Print the current price of BTC\n",
    "btc_price"
   ]
  },
  {
   "cell_type": "code",
   "execution_count": null,
   "id": "01922e2a-2c5a-418a-81a4-e3a098822ebd",
   "metadata": {},
   "outputs": [],
   "source": [
    "# Navigate the BTC response object to access the current price of ETH\n",
    "eth_price = eth_response[\"data\"][\"1027\"][\"quotes\"][\"USD\"][\"price\"]\n",
    "\n",
    "# Print the current price of ETH\n",
    "eth_price"
   ]
  },
  {
   "cell_type": "code",
   "execution_count": null,
   "id": "2ca52e25-c040-475e-b40e-d387df81f4f4",
   "metadata": {},
   "outputs": [],
   "source": [
    "# Set the current amount of shares held in both the stock (SPY) and bond (AGG) portion of the portfolio.\n",
    "spy_shares = 110\n",
    "agg_shares = 200"
   ]
  },
  {
   "cell_type": "code",
   "execution_count": null,
   "id": "2dd63434-74e9-41f0-a20d-d650d3af2e04",
   "metadata": {},
   "outputs": [],
   "source": [
    "# Set the variables for the Alpaca API and secret keys\n",
    "alpaca_api_key = os.getenv(\"ALPACA_API_KEY\")\n",
    "alpaca_secret_key = os.getenv(\"ALPACA_SECRET_KEY\")\n",
    "\n",
    "# Create the Alpaca tradeapi.REST object\n",
    "alpaca = tradeapi.REST(\n",
    "    alpaca_api_key,\n",
    "    alpaca_secret_key,\n",
    "    api_version=\"v2\")"
   ]
  },
  {
   "cell_type": "code",
   "execution_count": null,
   "id": "aa0930e4-8dec-4c28-9e74-6defdb3aaea6",
   "metadata": {},
   "outputs": [],
   "source": [
    "# Set the tickers for both the bond and stock portion of the portfolio\n",
    "tickers = [\"SPY\", \"AGG\"]\n",
    "\n",
    "# Set timeframe to 1Day\n",
    "timeframe = \"1Day\"\n",
    "\n",
    "# Format current date as ISO format\n",
    "# Set both the start and end date at the date of your prior weekday \n",
    "# This will give you the closing price of the previous trading day\n",
    "# Alternatively you can use a start and end date of 2020-08-07\n",
    "start_date = pd.Timestamp(\"2020-08-07\", tz=\"America/New_York\").isoformat()\n",
    "end_date = pd.Timestamp(\"2020-08-07\", tz=\"America/New_York\").isoformat()"
   ]
  },
  {
   "cell_type": "code",
   "execution_count": null,
   "id": "49edde0d-1547-4247-b235-8234e94f1da3",
   "metadata": {},
   "outputs": [],
   "source": [
    "# Use the Alpaca get_bars function to get current closing prices the portfolio\n",
    "# Be sure to set the `df` property after the function to format the response object as a DataFrame\n",
    "prices_df = alpaca.get_bars(\n",
    "    tickers,\n",
    "    timeframe,\n",
    "    start=start_date,\n",
    "    end=end_date\n",
    ").df\n",
    "\n",
    "# Reorganize the DataFrame\n",
    "# Separate ticker data\n",
    "SPY = prices_df[prices_df['symbol']=='SPY'].drop('symbol', axis=1)\n",
    "AGG = prices_df[prices_df['symbol']=='AGG'].drop('symbol', axis=1)\n",
    "\n",
    "# Concatenate the ticker DataFrames\n",
    "prices_df = pd.concat([SPY, AGG], axis=1, keys=[\"SPY\", \"AGG\"])\n",
    "\n",
    "# Review the first 5 rows of the Alpaca DataFrame\n",
    "prices_df.head()"
   ]
  },
  {
   "cell_type": "code",
   "execution_count": null,
   "id": "e9969ee3-1d76-4eeb-adb1-ea83a6205b93",
   "metadata": {},
   "outputs": [],
   "source": [
    "# Access the closing price for AGG from the Alpaca DataFrame\n",
    "# Converting the value to a floating point number\n",
    "agg_close_price = float(prices_df[\"AGG\"][\"close\"])\n",
    "\n",
    "# Print the AGG closing price\n",
    "agg_close_price"
   ]
  },
  {
   "cell_type": "code",
   "execution_count": null,
   "id": "b30d4eca-c647-4e34-87c0-bd5944d9bdff",
   "metadata": {},
   "outputs": [],
   "source": [
    "# Access the closing price for SPY from the Alpaca DataFrame\n",
    "# Converting the value to a floating point number\n",
    "spy_close_price = float(prices_df[\"SPY\"][\"close\"])\n",
    "\n",
    "# Print the AGG closing price\n",
    "spy_close_price"
   ]
  },
  {
   "cell_type": "code",
   "execution_count": null,
   "id": "5813b137-8d87-42c1-bd92-2ae7256b1f96",
   "metadata": {},
   "outputs": [],
   "source": [
    "# Request daily_returns data for a collection from OpenSea API\n",
    "\n",
    "# os_response = requests.get(<INSERT OS ENDPOINT>).json()\n",
    "\n"
   ]
  },
  {
   "cell_type": "code",
   "execution_count": null,
   "id": "d84159ce-5d78-4625-afba-6356ffbe2246",
   "metadata": {},
   "outputs": [],
   "source": [
    "# Request daily_returns data for a collection from MagicEden API\n",
    "\n",
    "# me_response = requests.get(<INSERT ME ENDPOINT>).json()\n",
    "\n"
   ]
  },
  {
   "cell_type": "code",
   "execution_count": null,
   "id": "67bedf59-2279-4a97-ada7-e5176ce2aa98",
   "metadata": {},
   "outputs": [],
   "source": [
    "# Calculate the pct_change of OS and ME dataframes\n"
   ]
  },
  {
   "cell_type": "code",
   "execution_count": null,
   "id": "f7a1d22c-16bd-4f22-a125-1d9bc266d3dc",
   "metadata": {},
   "outputs": [],
   "source": [
    "# Calculate the covariance, beta, and sharpe ratios of OS and ME dataframes\n"
   ]
  },
  {
   "cell_type": "code",
   "execution_count": null,
   "id": "b6a1869f-5b2b-4b56-83c1-5ee04b9c11dc",
   "metadata": {},
   "outputs": [],
   "source": [
    "# Perform Monte Carlo simulations for OS and ME data"
   ]
  },
  {
   "cell_type": "code",
   "execution_count": 89,
   "id": "e1790b88-09ec-4637-b54f-cd57f5ad2db6",
   "metadata": {},
   "outputs": [],
   "source": [
    "# Set the base url for the NFTPort API\n",
    "base_nftport_url = \"https://api.nftport.xyz/v0\"\n",
    "\n",
    "# Set the headers, including for authentication\n",
    "token = os.getenv(\"NFTPORT_API_KEY\")\n",
    "headers = {'Authorization': token}\n"
   ]
  },
  {
   "cell_type": "code",
   "execution_count": 159,
   "id": "527b707c-e2da-4b4e-ba98-5329984b3c4e",
   "metadata": {},
   "outputs": [],
   "source": [
    "def get_nfts_for_account(chain, account):\n",
    "  \n",
    "    response = requests.get(base_nftport_url + \"/accounts/\" + account + f\"?chain={chain}\", headers=headers).json()\n",
    "    return response\n",
    "    \n",
    "def get_transactions_for_nft(chain, trans_type, contract_address, token_id):\n",
    "    \n",
    "    response = requests.get(base_nftport_url + \"/transactions/nfts/\" + contract_address + \"/\" + token_id + f\"?chain={chain}&type={trans_type}\", headers=headers).json()\n",
    "    return response\n",
    "    "
   ]
  },
  {
   "cell_type": "code",
   "execution_count": 195,
   "id": "0c6ff094-a6e1-4586-9e07-c7040bb9ff37",
   "metadata": {},
   "outputs": [
    {
     "data": {
      "text/html": [
       "<div>\n",
       "<style scoped>\n",
       "    .dataframe tbody tr th:only-of-type {\n",
       "        vertical-align: middle;\n",
       "    }\n",
       "\n",
       "    .dataframe tbody tr th {\n",
       "        vertical-align: top;\n",
       "    }\n",
       "\n",
       "    .dataframe thead th {\n",
       "        text-align: right;\n",
       "    }\n",
       "</style>\n",
       "<table border=\"1\" class=\"dataframe\">\n",
       "  <thead>\n",
       "    <tr style=\"text-align: right;\">\n",
       "      <th></th>\n",
       "      <th>response</th>\n",
       "      <th>transactions</th>\n",
       "    </tr>\n",
       "  </thead>\n",
       "  <tbody>\n",
       "    <tr>\n",
       "      <th>0</th>\n",
       "      <td>OK</td>\n",
       "      <td>{'type': 'sale', 'buyer_address': '0xea70f5fcf...</td>\n",
       "    </tr>\n",
       "    <tr>\n",
       "      <th>1</th>\n",
       "      <td>OK</td>\n",
       "      <td>{'type': 'sale', 'buyer_address': '0xf4b746a0a...</td>\n",
       "    </tr>\n",
       "    <tr>\n",
       "      <th>2</th>\n",
       "      <td>OK</td>\n",
       "      <td>{'type': 'sale', 'buyer_address': '0x77d7a0237...</td>\n",
       "    </tr>\n",
       "  </tbody>\n",
       "</table>\n",
       "</div>"
      ],
      "text/plain": [
       "  response                                       transactions\n",
       "0       OK  {'type': 'sale', 'buyer_address': '0xea70f5fcf...\n",
       "1       OK  {'type': 'sale', 'buyer_address': '0xf4b746a0a...\n",
       "2       OK  {'type': 'sale', 'buyer_address': '0x77d7a0237..."
      ]
     },
     "metadata": {},
     "output_type": "display_data"
    },
    {
     "data": {
      "text/html": [
       "<div>\n",
       "<style scoped>\n",
       "    .dataframe tbody tr th:only-of-type {\n",
       "        vertical-align: middle;\n",
       "    }\n",
       "\n",
       "    .dataframe tbody tr th {\n",
       "        vertical-align: top;\n",
       "    }\n",
       "\n",
       "    .dataframe thead th {\n",
       "        text-align: right;\n",
       "    }\n",
       "</style>\n",
       "<table border=\"1\" class=\"dataframe\">\n",
       "  <thead>\n",
       "    <tr style=\"text-align: right;\">\n",
       "      <th></th>\n",
       "      <th>type</th>\n",
       "      <th>buyer_address</th>\n",
       "      <th>seller_address</th>\n",
       "      <th>quantity</th>\n",
       "      <th>transaction_hash</th>\n",
       "      <th>block_hash</th>\n",
       "      <th>block_number</th>\n",
       "      <th>transaction_date</th>\n",
       "      <th>marketplace</th>\n",
       "      <th>nft.contract_type</th>\n",
       "      <th>nft.contract_address</th>\n",
       "      <th>nft.token_id</th>\n",
       "      <th>price_details.asset_type</th>\n",
       "      <th>price_details.price</th>\n",
       "      <th>price_details.price_usd</th>\n",
       "      <th>sale_returns</th>\n",
       "    </tr>\n",
       "  </thead>\n",
       "  <tbody>\n",
       "    <tr>\n",
       "      <th>0</th>\n",
       "      <td>sale</td>\n",
       "      <td>0xea70f5fcf0e51900d13b7992b0996530f036a133</td>\n",
       "      <td>0xf4b746a0ae12ff4f9854aaa712518193bf9e0ffa</td>\n",
       "      <td>1</td>\n",
       "      <td>0x7aa120761e26abb56f27182638e71ec95d5e46de3ae9...</td>\n",
       "      <td>0x96ad219b64abf6fb8d2ab022d9af212b5d441a1d16ce...</td>\n",
       "      <td>14198978</td>\n",
       "      <td>2022-02-13 16:58:44</td>\n",
       "      <td>opensea</td>\n",
       "      <td>ERC721</td>\n",
       "      <td>0x0eff88e66eb717f8f7e0701345f1cc119b487f86</td>\n",
       "      <td>4849</td>\n",
       "      <td>ETH</td>\n",
       "      <td>0.128</td>\n",
       "      <td>400.650956</td>\n",
       "      <td>NaN</td>\n",
       "    </tr>\n",
       "    <tr>\n",
       "      <th>1</th>\n",
       "      <td>sale</td>\n",
       "      <td>0xf4b746a0ae12ff4f9854aaa712518193bf9e0ffa</td>\n",
       "      <td>0x77d7a0237819072e0ead5e754aaa4edef35bcfcf</td>\n",
       "      <td>1</td>\n",
       "      <td>0xdba90a88d91879ecff9e13c33f90116ec9396eabf587...</td>\n",
       "      <td>0x63c5710633b52779c22bdeb4b48c71916a8d69c4d4f3...</td>\n",
       "      <td>14194745</td>\n",
       "      <td>2022-02-13 01:17:05</td>\n",
       "      <td>opensea</td>\n",
       "      <td>ERC721</td>\n",
       "      <td>0x0eff88e66eb717f8f7e0701345f1cc119b487f86</td>\n",
       "      <td>4849</td>\n",
       "      <td>ETH</td>\n",
       "      <td>0.140</td>\n",
       "      <td>431.379256</td>\n",
       "      <td>0.076696</td>\n",
       "    </tr>\n",
       "    <tr>\n",
       "      <th>2</th>\n",
       "      <td>sale</td>\n",
       "      <td>0x77d7a0237819072e0ead5e754aaa4edef35bcfcf</td>\n",
       "      <td>0x700541b878657623787c87cc32a1ba7be49981d1</td>\n",
       "      <td>1</td>\n",
       "      <td>0xbb1eb527945c214d2bdb4c9458c801e18a2a86242c04...</td>\n",
       "      <td>0x948bc981d8a3a16d37ab9a2cd60647c2707f1fb68219...</td>\n",
       "      <td>14191117</td>\n",
       "      <td>2022-02-12 12:03:26</td>\n",
       "      <td>opensea</td>\n",
       "      <td>ERC721</td>\n",
       "      <td>0x0eff88e66eb717f8f7e0701345f1cc119b487f86</td>\n",
       "      <td>4849</td>\n",
       "      <td>ETH</td>\n",
       "      <td>0.100</td>\n",
       "      <td>301.333140</td>\n",
       "      <td>-0.301466</td>\n",
       "    </tr>\n",
       "  </tbody>\n",
       "</table>\n",
       "</div>"
      ],
      "text/plain": [
       "   type                               buyer_address  \\\n",
       "0  sale  0xea70f5fcf0e51900d13b7992b0996530f036a133   \n",
       "1  sale  0xf4b746a0ae12ff4f9854aaa712518193bf9e0ffa   \n",
       "2  sale  0x77d7a0237819072e0ead5e754aaa4edef35bcfcf   \n",
       "\n",
       "                               seller_address  quantity  \\\n",
       "0  0xf4b746a0ae12ff4f9854aaa712518193bf9e0ffa         1   \n",
       "1  0x77d7a0237819072e0ead5e754aaa4edef35bcfcf         1   \n",
       "2  0x700541b878657623787c87cc32a1ba7be49981d1         1   \n",
       "\n",
       "                                    transaction_hash  \\\n",
       "0  0x7aa120761e26abb56f27182638e71ec95d5e46de3ae9...   \n",
       "1  0xdba90a88d91879ecff9e13c33f90116ec9396eabf587...   \n",
       "2  0xbb1eb527945c214d2bdb4c9458c801e18a2a86242c04...   \n",
       "\n",
       "                                          block_hash  block_number  \\\n",
       "0  0x96ad219b64abf6fb8d2ab022d9af212b5d441a1d16ce...      14198978   \n",
       "1  0x63c5710633b52779c22bdeb4b48c71916a8d69c4d4f3...      14194745   \n",
       "2  0x948bc981d8a3a16d37ab9a2cd60647c2707f1fb68219...      14191117   \n",
       "\n",
       "     transaction_date marketplace nft.contract_type  \\\n",
       "0 2022-02-13 16:58:44     opensea            ERC721   \n",
       "1 2022-02-13 01:17:05     opensea            ERC721   \n",
       "2 2022-02-12 12:03:26     opensea            ERC721   \n",
       "\n",
       "                         nft.contract_address nft.token_id  \\\n",
       "0  0x0eff88e66eb717f8f7e0701345f1cc119b487f86         4849   \n",
       "1  0x0eff88e66eb717f8f7e0701345f1cc119b487f86         4849   \n",
       "2  0x0eff88e66eb717f8f7e0701345f1cc119b487f86         4849   \n",
       "\n",
       "  price_details.asset_type  price_details.price  price_details.price_usd  \\\n",
       "0                      ETH                0.128               400.650956   \n",
       "1                      ETH                0.140               431.379256   \n",
       "2                      ETH                0.100               301.333140   \n",
       "\n",
       "   sale_returns  \n",
       "0           NaN  \n",
       "1      0.076696  \n",
       "2     -0.301466  "
      ]
     },
     "metadata": {},
     "output_type": "display_data"
    }
   ],
   "source": [
    "\n",
    "# Call function to get transactions, returns json\n",
    "response = get_transactions_for_nft(\"ethereum\", \"sale\", \"0x0eff88e66eb717f8f7e0701345f1cc119b487f86\", \"4849\")\n",
    "\n",
    "# create a dataframe from the response data\n",
    "response_df = pd.DataFrame(response)\n",
    "display(response_df)\n",
    "\n",
    "# Flatten the json to read the transactions into a dataframe\n",
    "transactions_df = pd.json_normalize(response, record_path =['transactions'])\n",
    "\n",
    "transactions_df['transaction_date'] = pd.to_datetime(transactions_df['transaction_date'])\n",
    "transactions_df.set_index('transaction_date')\n",
    "\n",
    "# display(transactions_df.info())\n",
    "# display(transactions_df.sort_values(by=['transaction_date']))\n",
    "\n",
    "transactions_df[\"sale_returns\"] = transactions_df[\"price_details.price_usd\"].pct_change(periods = 1)\n",
    "display(transactions_df)\n"
   ]
  },
  {
   "cell_type": "code",
   "execution_count": null,
   "id": "06715f30-d898-4aad-a3a9-9c0afb5cecee",
   "metadata": {},
   "outputs": [],
   "source": []
  },
  {
   "cell_type": "code",
   "execution_count": null,
   "id": "872d2c4e-66a4-4348-b90b-aaac77948d89",
   "metadata": {},
   "outputs": [],
   "source": []
  }
 ],
 "metadata": {
  "kernelspec": {
   "display_name": "Python 3 (ipykernel)",
   "language": "python",
   "name": "python3"
  },
  "language_info": {
   "codemirror_mode": {
    "name": "ipython",
    "version": 3
   },
   "file_extension": ".py",
   "mimetype": "text/x-python",
   "name": "python",
   "nbconvert_exporter": "python",
   "pygments_lexer": "ipython3",
   "version": "3.7.13"
  }
 },
 "nbformat": 4,
 "nbformat_minor": 5
}
