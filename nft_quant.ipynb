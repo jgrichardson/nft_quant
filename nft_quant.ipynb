{
 "cells": [
  {
   "cell_type": "code",
   "execution_count": 2,
   "id": "28644aa7-e879-486c-b871-3e3b7a51cde0",
   "metadata": {},
   "outputs": [],
   "source": [
    "# Import the required libraries and dependencies\n",
    "\n",
    "import os\n",
    "import requests\n",
    "import json\n",
    "import pandas as pd\n",
    "from dotenv import load_dotenv\n",
    "import alpaca_trade_api as tradeapi\n",
    "from MCForecastTools import MCSimulation\n",
    "%matplotlib inline\n",
    "from decimal import *\n",
    "\n",
    "# import web3 library to support Quicknode API\n",
    "from web3 import Web3, HTTPProvider\n",
    "\n",
    "# import SDK libraries from OpenSea / MagicEden if/when available\n",
    "\n"
   ]
  },
  {
   "cell_type": "code",
   "execution_count": 3,
   "id": "e7b225f5-973f-4a21-8819-536faedb80a2",
   "metadata": {},
   "outputs": [
    {
     "data": {
      "text/plain": [
       "True"
      ]
     },
     "execution_count": 3,
     "metadata": {},
     "output_type": "execute_result"
    }
   ],
   "source": [
    "# Load the environment variables from the .env file\n",
    "#by calling the load_dotenv function\n",
    "load_dotenv()"
   ]
  },
  {
   "cell_type": "code",
   "execution_count": null,
   "id": "b0b2377f-665f-490e-b0c0-f4cfd8f017bd",
   "metadata": {},
   "outputs": [],
   "source": [
    "# Set the Free Crypto API Call endpoint URLs for the held cryptocurrency assets\n",
    "\n",
    "btc_url = \"https://api.alternative.me/v2/ticker/Bitcoin/?convert=USD\"\n",
    "eth_url = \"https://api.alternative.me/v2/ticker/Ethereum/?convert=USD\"\n"
   ]
  },
  {
   "cell_type": "code",
   "execution_count": null,
   "id": "a8cf636d-e4e2-45e0-b5b1-bd3700a0496a",
   "metadata": {},
   "outputs": [],
   "source": [
    "# Make an API call to access the current price of BTC\n",
    "\n",
    "btc_response = requests.get(btc_url).json()\n",
    "\n",
    "# Display the response data\n",
    "print(json.dumps(btc_response, indent=4, sort_keys=True))"
   ]
  },
  {
   "cell_type": "code",
   "execution_count": null,
   "id": "4b47d1ce-2d58-4570-958d-27bc857bec12",
   "metadata": {},
   "outputs": [],
   "source": [
    "# Make an API call to access the current price ETH\n",
    "eth_response = requests.get(eth_url).json()\n",
    "\n",
    "# Display the response data\n",
    "print(json.dumps(eth_response, indent=4, sort_keys=True))"
   ]
  },
  {
   "cell_type": "code",
   "execution_count": null,
   "id": "893b3f36-3599-4ca6-867a-ec1921070bc2",
   "metadata": {},
   "outputs": [],
   "source": [
    "# Navigate the BTC response object to access the current price of BTC\n",
    "btc_price = btc_response[\"data\"][\"1\"][\"quotes\"][\"USD\"][\"price\"]\n",
    "\n",
    "# Print the current price of BTC\n",
    "btc_price"
   ]
  },
  {
   "cell_type": "code",
   "execution_count": null,
   "id": "01922e2a-2c5a-418a-81a4-e3a098822ebd",
   "metadata": {},
   "outputs": [],
   "source": [
    "# Navigate the BTC response object to access the current price of ETH\n",
    "eth_price = eth_response[\"data\"][\"1027\"][\"quotes\"][\"USD\"][\"price\"]\n",
    "\n",
    "# Print the current price of ETH\n",
    "eth_price"
   ]
  },
  {
   "cell_type": "code",
   "execution_count": null,
   "id": "2ca52e25-c040-475e-b40e-d387df81f4f4",
   "metadata": {},
   "outputs": [],
   "source": [
    "# Set the current amount of shares held in both the stock (SPY) and bond (AGG) portion of the portfolio.\n",
    "spy_shares = 110\n",
    "agg_shares = 200"
   ]
  },
  {
   "cell_type": "code",
   "execution_count": null,
   "id": "2dd63434-74e9-41f0-a20d-d650d3af2e04",
   "metadata": {},
   "outputs": [],
   "source": [
    "# Set the variables for the Alpaca API and secret keys\n",
    "alpaca_api_key = os.getenv(\"ALPACA_API_KEY\")\n",
    "alpaca_secret_key = os.getenv(\"ALPACA_SECRET_KEY\")\n",
    "\n",
    "# Create the Alpaca tradeapi.REST object\n",
    "alpaca = tradeapi.REST(\n",
    "    alpaca_api_key,\n",
    "    alpaca_secret_key,\n",
    "    api_version=\"v2\")"
   ]
  },
  {
   "cell_type": "code",
   "execution_count": null,
   "id": "aa0930e4-8dec-4c28-9e74-6defdb3aaea6",
   "metadata": {},
   "outputs": [],
   "source": [
    "# Set the tickers for both the bond and stock portion of the portfolio\n",
    "tickers = [\"SPY\", \"AGG\"]\n",
    "\n",
    "# Set timeframe to 1Day\n",
    "timeframe = \"1Day\"\n",
    "\n",
    "# Format current date as ISO format\n",
    "# Set both the start and end date at the date of your prior weekday \n",
    "# This will give you the closing price of the previous trading day\n",
    "# Alternatively you can use a start and end date of 2020-08-07\n",
    "start_date = pd.Timestamp(\"2020-08-07\", tz=\"America/New_York\").isoformat()\n",
    "end_date = pd.Timestamp(\"2020-08-07\", tz=\"America/New_York\").isoformat()"
   ]
  },
  {
   "cell_type": "code",
   "execution_count": null,
   "id": "49edde0d-1547-4247-b235-8234e94f1da3",
   "metadata": {},
   "outputs": [],
   "source": [
    "# Use the Alpaca get_bars function to get current closing prices the portfolio\n",
    "# Be sure to set the `df` property after the function to format the response object as a DataFrame\n",
    "prices_df = alpaca.get_bars(\n",
    "    tickers,\n",
    "    timeframe,\n",
    "    start=start_date,\n",
    "    end=end_date\n",
    ").df\n",
    "\n",
    "# Reorganize the DataFrame\n",
    "# Separate ticker data\n",
    "SPY = prices_df[prices_df['symbol']=='SPY'].drop('symbol', axis=1)\n",
    "AGG = prices_df[prices_df['symbol']=='AGG'].drop('symbol', axis=1)\n",
    "\n",
    "# Concatenate the ticker DataFrames\n",
    "prices_df = pd.concat([SPY, AGG], axis=1, keys=[\"SPY\", \"AGG\"])\n",
    "\n",
    "# Review the first 5 rows of the Alpaca DataFrame\n",
    "prices_df.head()"
   ]
  },
  {
   "cell_type": "code",
   "execution_count": null,
   "id": "e9969ee3-1d76-4eeb-adb1-ea83a6205b93",
   "metadata": {},
   "outputs": [],
   "source": [
    "# Access the closing price for AGG from the Alpaca DataFrame\n",
    "# Converting the value to a floating point number\n",
    "agg_close_price = float(prices_df[\"AGG\"][\"close\"])\n",
    "\n",
    "# Print the AGG closing price\n",
    "agg_close_price"
   ]
  },
  {
   "cell_type": "code",
   "execution_count": null,
   "id": "b30d4eca-c647-4e34-87c0-bd5944d9bdff",
   "metadata": {},
   "outputs": [],
   "source": [
    "# Access the closing price for SPY from the Alpaca DataFrame\n",
    "# Converting the value to a floating point number\n",
    "spy_close_price = float(prices_df[\"SPY\"][\"close\"])\n",
    "\n",
    "# Print the AGG closing price\n",
    "spy_close_price"
   ]
  },
  {
   "cell_type": "code",
   "execution_count": null,
   "id": "5813b137-8d87-42c1-bd92-2ae7256b1f96",
   "metadata": {},
   "outputs": [],
   "source": [
    "# Request daily_returns data for a collection from OpenSea API\n",
    "\n",
    "# os_response = requests.get(<INSERT OS ENDPOINT>).json()\n",
    "\n"
   ]
  },
  {
   "cell_type": "code",
   "execution_count": null,
   "id": "d84159ce-5d78-4625-afba-6356ffbe2246",
   "metadata": {},
   "outputs": [],
   "source": [
    "# Request daily_returns data for a collection from MagicEden API\n",
    "\n",
    "# me_response = requests.get(<INSERT ME ENDPOINT>).json()\n",
    "\n"
   ]
  },
  {
   "cell_type": "code",
   "execution_count": null,
   "id": "67bedf59-2279-4a97-ada7-e5176ce2aa98",
   "metadata": {},
   "outputs": [],
   "source": [
    "# Calculate the pct_change of OS and ME dataframes\n"
   ]
  },
  {
   "cell_type": "code",
   "execution_count": null,
   "id": "f7a1d22c-16bd-4f22-a125-1d9bc266d3dc",
   "metadata": {},
   "outputs": [],
   "source": [
    "# Calculate the covariance, beta, and sharpe ratios of OS and ME dataframes\n"
   ]
  },
  {
   "cell_type": "code",
   "execution_count": null,
   "id": "b6a1869f-5b2b-4b56-83c1-5ee04b9c11dc",
   "metadata": {},
   "outputs": [],
   "source": [
    "# Perform Monte Carlo simulations for OS and ME data"
   ]
  },
  {
   "cell_type": "code",
   "execution_count": null,
   "id": "e1790b88-09ec-4637-b54f-cd57f5ad2db6",
   "metadata": {},
   "outputs": [],
   "source": [
    "# Set the base url for the NFTPort API\n",
    "base_nftport_url = \"https://api.nftport.xyz/v0\"\n",
    "\n",
    "# Set the headers, including for authentication\n",
    "token = os.getenv(\"NFTPORT_API_KEY\")\n",
    "headers = {'Authorization': token}\n"
   ]
  },
  {
   "cell_type": "code",
   "execution_count": null,
   "id": "527b707c-e2da-4b4e-ba98-5329984b3c4e",
   "metadata": {},
   "outputs": [],
   "source": [
    "def get_nfts_for_account(chain, account):\n",
    "  \n",
    "    response = requests.get(base_nftport_url + \"/accounts/\" + account + f\"?chain={chain}\", headers=headers).json()\n",
    "    return response\n",
    "    \n",
    "def get_transactions_for_nft(chain, trans_type, contract_address, token_id):\n",
    "    \n",
    "    response = requests.get(base_nftport_url + \"/transactions/nfts/\" + contract_address + \"/\" + token_id + f\"?chain={chain}&type={trans_type}\", headers=headers).json()\n",
    "    return response\n",
    "    "
   ]
  },
  {
   "cell_type": "code",
   "execution_count": null,
   "id": "0c6ff094-a6e1-4586-9e07-c7040bb9ff37",
   "metadata": {},
   "outputs": [],
   "source": [
    "\n",
    "# Call function to get transactions, returns json\n",
    "response = get_transactions_for_nft(\"ethereum\", \"sale\", \"0x0eff88e66eb717f8f7e0701345f1cc119b487f86\", \"4849\")\n",
    "\n",
    "# create a dataframe from the response data\n",
    "response_df = pd.DataFrame(response)\n",
    "display(response_df)\n",
    "\n",
    "# Flatten the json to read the transactions into a dataframe\n",
    "transactions_df = pd.json_normalize(response, record_path =['transactions'])\n",
    "\n",
    "transactions_df['transaction_date'] = pd.to_datetime(transactions_df['transaction_date'])\n",
    "transactions_df.set_index('transaction_date')\n",
    "\n",
    "# display(transactions_df.info())\n",
    "# display(transactions_df.sort_values(by=['transaction_date']))\n",
    "\n",
    "transactions_df[\"sale_returns\"] = transactions_df[\"price_details.price_usd\"].pct_change(periods = 1)\n",
    "display(transactions_df)\n"
   ]
  },
  {
   "cell_type": "code",
   "execution_count": null,
   "id": "06715f30-d898-4aad-a3a9-9c0afb5cecee",
   "metadata": {},
   "outputs": [],
   "source": [
    "# Test out web3 request to Quicknode\n",
    "\n",
    "w3 = Web3(Web3.HTTPProvider(\"https://dry-blue-voice.discover.quiknode.pro/1d4c5fcbe9424842ec36559bb9a692c5761ead48/\"))\n",
    "w3.eth.getBlock('latest') # get latest block details\n",
    "w3.eth.blockNumber # get latest block number\n",
    "\n"
   ]
  },
  {
   "cell_type": "code",
   "execution_count": null,
   "id": "872d2c4e-66a4-4348-b90b-aaac77948d89",
   "metadata": {},
   "outputs": [],
   "source": [
    "\n",
    "#Make request to Quicknode API to fetch NFT collection details\n",
    "\n",
    "OPTIONS = {\n",
    "  'headers':\n",
    "    {\n",
    "      'x-qn-api-version': '1'\n",
    "    }\n",
    "}\n",
    "w3 = Web3(HTTPProvider('https://dry-blue-voice.discover.quiknode.pro/1d4c5fcbe9424842ec36559bb9a692c5761ead48/', request_kwargs=OPTIONS))\n",
    "resp = w3.provider.make_request('qn_fetchNFTCollectionDetails', {\n",
    "  \"contracts\": [\n",
    "    \"0x60E4d786628Fea6478F785A6d7e704777c86a7c6\",\n",
    "    \"0x7Bd29408f11D2bFC23c34f18275bBf23bB716Bc7\"\n",
    "  ]\n",
    "})\n",
    "print(resp)"
   ]
  },
  {
   "cell_type": "code",
   "execution_count": null,
   "id": "01254940-f6dc-4dbe-b10f-f71787867fb4",
   "metadata": {},
   "outputs": [],
   "source": [
    "# Make request to Quicknode to fetch NFTs from my wallet\n",
    "\n",
    "OPTIONS = {\n",
    "  'headers':\n",
    "    {\n",
    "      'x-qn-api-version': '1'\n",
    "    }\n",
    "}\n",
    "w3 = Web3(HTTPProvider('https://dry-blue-voice.discover.quiknode.pro/1d4c5fcbe9424842ec36559bb9a692c5761ead48/', request_kwargs=OPTIONS))\n",
    "resp = w3.provider.make_request('qn_fetchNFTs', {\n",
    "  \"wallet\": \"0xeA70F5fcf0E51900D13B7992B0996530f036A133\",\n",
    "  \"omitFields\": [\n",
    "    \"provenance\",\n",
    "    \"traits\"\n",
    "  ],\n",
    "  \"page\": 1,\n",
    "  \"perPage\": 10,\n",
    "  \"contracts\": [\n",
    "    \"0xd153f0014db6d1f339c6340d2c9f59214355d9d7\",\n",
    "    \"0xBC4CA0EdA7647A8aB7C2061c2E118A18a936f13D\"\n",
    "  ]\n",
    "})\n",
    "print(resp)"
   ]
  },
  {
   "cell_type": "markdown",
   "id": "377a94d1-aa03-4ed0-b1e7-04a715366c63",
   "metadata": {},
   "source": [
    "### Experimenting with Covalent API"
   ]
  },
  {
   "cell_type": "code",
   "execution_count": null,
   "id": "06326ff1-2bdd-4bad-bae8-a7cf8fd86cdf",
   "metadata": {},
   "outputs": [],
   "source": [
    "# Get your own Covalent API Key from https://www.covalenthq.com/\n",
    "# Store that key in your .env as COVALENT_API_KEY=<INSERT-YOUR-KEY>\n",
    "\n",
    "covalent_api_key = os.getenv(\"COVALENT_API_KEY\")"
   ]
  },
  {
   "cell_type": "code",
   "execution_count": null,
   "id": "9d1589dd-a574-46fb-a59f-84e3c621c2ac",
   "metadata": {},
   "outputs": [],
   "source": [
    "# Set base URL for Covalent API\n",
    "base_url = \"https://api.covalenthq.com/v1/\""
   ]
  },
  {
   "cell_type": "code",
   "execution_count": null,
   "id": "929920f2-98b7-45bf-b3af-ecc07c1ddac4",
   "metadata": {},
   "outputs": [],
   "source": [
    "# Set blockchain_id\n",
    "blockchain_chain_id = '1'\n",
    "\n",
    "# Set your wallet address\n",
    "demo_address = '0xeA70F5fcf0E51900D13B7992B0996530f036A133'\n",
    "\n",
    "def get_wallet_balance(chain_id, address):\n",
    "    endpoint = f'{chain_id}/address/{address}/balances_v2/?key={covalent_api_key}'\n",
    "    url = base_url + endpoint\n",
    "    result = requests.get(url).json()\n",
    "    data = result[\"data\"]\n",
    "    print(json.dumps(data, indent=4, sort_keys=True))\n",
    "    #display(data)\n",
    "\n",
    "\n",
    "# Example address request\n",
    "get_wallet_balance(blockchain_chain_id, demo_address)\n",
    "\n"
   ]
  },
  {
   "cell_type": "markdown",
   "id": "d4f6830d-0039-443e-a872-811e7555c904",
   "metadata": {},
   "source": [
    "# Rarity API Sample Code"
   ]
  },
  {
   "cell_type": "markdown",
   "id": "75c3011e-b4a8-4b01-8df1-7b8db0d35151",
   "metadata": {},
   "source": [
    "## Get historical average prices for collection of NFts"
   ]
  },
  {
   "cell_type": "code",
   "execution_count": 40,
   "id": "8f130272-7bf2-4e59-ad6d-a9451c34bdb4",
   "metadata": {},
   "outputs": [
    {
     "data": {
      "text/html": [
       "<div>\n",
       "<style scoped>\n",
       "    .dataframe tbody tr th:only-of-type {\n",
       "        vertical-align: middle;\n",
       "    }\n",
       "\n",
       "    .dataframe tbody tr th {\n",
       "        vertical-align: top;\n",
       "    }\n",
       "\n",
       "    .dataframe thead th {\n",
       "        text-align: right;\n",
       "    }\n",
       "</style>\n",
       "<table border=\"1\" class=\"dataframe\">\n",
       "  <thead>\n",
       "    <tr style=\"text-align: right;\">\n",
       "      <th></th>\n",
       "      <th>avg_price</th>\n",
       "      <th>max_price</th>\n",
       "      <th>min_price</th>\n",
       "      <th>time</th>\n",
       "      <th>trades</th>\n",
       "      <th>unique_buyers</th>\n",
       "      <th>volume</th>\n",
       "      <th>transaction_date_time</th>\n",
       "      <th>avg_price_in_eth</th>\n",
       "      <th>pct_change</th>\n",
       "    </tr>\n",
       "  </thead>\n",
       "  <tbody>\n",
       "    <tr>\n",
       "      <th>1</th>\n",
       "      <td>99362062000000000000</td>\n",
       "      <td>150000000000000000000</td>\n",
       "      <td>5000000000000000</td>\n",
       "      <td>2022-04-13T00:00:00Z</td>\n",
       "      <td>16</td>\n",
       "      <td>14</td>\n",
       "      <td>1589793000000000000000</td>\n",
       "      <td>2022-04-13 00:00:00+00:00</td>\n",
       "      <td>99.362062</td>\n",
       "      <td>-0.328945</td>\n",
       "    </tr>\n",
       "    <tr>\n",
       "      <th>2</th>\n",
       "      <td>91256666000000000000</td>\n",
       "      <td>125000000000000000000</td>\n",
       "      <td>25005000000000000000</td>\n",
       "      <td>2022-04-14T00:00:00Z</td>\n",
       "      <td>9</td>\n",
       "      <td>8</td>\n",
       "      <td>821310000000000000000</td>\n",
       "      <td>2022-04-14 00:00:00+00:00</td>\n",
       "      <td>91.256666</td>\n",
       "      <td>-0.081574</td>\n",
       "    </tr>\n",
       "    <tr>\n",
       "      <th>3</th>\n",
       "      <td>78194241000000000000</td>\n",
       "      <td>140000000000000000000</td>\n",
       "      <td>5000000000000000</td>\n",
       "      <td>2022-04-15T00:00:00Z</td>\n",
       "      <td>18</td>\n",
       "      <td>18</td>\n",
       "      <td>1407496339000000000000</td>\n",
       "      <td>2022-04-15 00:00:00+00:00</td>\n",
       "      <td>78.194241</td>\n",
       "      <td>-0.143139</td>\n",
       "    </tr>\n",
       "    <tr>\n",
       "      <th>4</th>\n",
       "      <td>87942750000000000000</td>\n",
       "      <td>131000000000000000000</td>\n",
       "      <td>5000000000000000</td>\n",
       "      <td>2022-04-16T00:00:00Z</td>\n",
       "      <td>10</td>\n",
       "      <td>10</td>\n",
       "      <td>879427500000000000000</td>\n",
       "      <td>2022-04-16 00:00:00+00:00</td>\n",
       "      <td>87.942750</td>\n",
       "      <td>0.124670</td>\n",
       "    </tr>\n",
       "    <tr>\n",
       "      <th>5</th>\n",
       "      <td>72576727000000000000</td>\n",
       "      <td>112690000000000000000</td>\n",
       "      <td>5000000000000000</td>\n",
       "      <td>2022-04-17T00:00:00Z</td>\n",
       "      <td>11</td>\n",
       "      <td>8</td>\n",
       "      <td>798344000000000000000</td>\n",
       "      <td>2022-04-17 00:00:00+00:00</td>\n",
       "      <td>72.576727</td>\n",
       "      <td>-0.174728</td>\n",
       "    </tr>\n",
       "    <tr>\n",
       "      <th>...</th>\n",
       "      <td>...</td>\n",
       "      <td>...</td>\n",
       "      <td>...</td>\n",
       "      <td>...</td>\n",
       "      <td>...</td>\n",
       "      <td>...</td>\n",
       "      <td>...</td>\n",
       "      <td>...</td>\n",
       "      <td>...</td>\n",
       "      <td>...</td>\n",
       "    </tr>\n",
       "    <tr>\n",
       "      <th>86</th>\n",
       "      <td>70976639000000000000</td>\n",
       "      <td>228000000000000000000</td>\n",
       "      <td>5000000000000000</td>\n",
       "      <td>2022-07-07T00:00:00Z</td>\n",
       "      <td>23</td>\n",
       "      <td>11</td>\n",
       "      <td>1632462700000000000000</td>\n",
       "      <td>2022-07-07 00:00:00+00:00</td>\n",
       "      <td>70.976639</td>\n",
       "      <td>0.021577</td>\n",
       "    </tr>\n",
       "    <tr>\n",
       "      <th>87</th>\n",
       "      <td>112657509000000000000</td>\n",
       "      <td>826205500000000000000</td>\n",
       "      <td>10005000000000000000</td>\n",
       "      <td>2022-07-08T00:00:00Z</td>\n",
       "      <td>22</td>\n",
       "      <td>10</td>\n",
       "      <td>2478465200000000000000</td>\n",
       "      <td>2022-07-08 00:00:00+00:00</td>\n",
       "      <td>112.657509</td>\n",
       "      <td>0.587248</td>\n",
       "    </tr>\n",
       "    <tr>\n",
       "      <th>88</th>\n",
       "      <td>41710023000000000000</td>\n",
       "      <td>115000000000000000000</td>\n",
       "      <td>5000000000000000</td>\n",
       "      <td>2022-07-09T00:00:00Z</td>\n",
       "      <td>21</td>\n",
       "      <td>7</td>\n",
       "      <td>875910500000000000000</td>\n",
       "      <td>2022-07-09 00:00:00+00:00</td>\n",
       "      <td>41.710023</td>\n",
       "      <td>-0.629763</td>\n",
       "    </tr>\n",
       "    <tr>\n",
       "      <th>89</th>\n",
       "      <td>76542625000000000000</td>\n",
       "      <td>149690000000000000000</td>\n",
       "      <td>5000000000000000</td>\n",
       "      <td>2022-07-10T00:00:00Z</td>\n",
       "      <td>32</td>\n",
       "      <td>17</td>\n",
       "      <td>2449364000000000000000</td>\n",
       "      <td>2022-07-10 00:00:00+00:00</td>\n",
       "      <td>76.542625</td>\n",
       "      <td>0.835113</td>\n",
       "    </tr>\n",
       "    <tr>\n",
       "      <th>90</th>\n",
       "      <td>62844500000000000000</td>\n",
       "      <td>119005000000000000000</td>\n",
       "      <td>5000000000000000</td>\n",
       "      <td>2022-07-11T00:00:00Z</td>\n",
       "      <td>10</td>\n",
       "      <td>6</td>\n",
       "      <td>628445000000000000000</td>\n",
       "      <td>2022-07-11 00:00:00+00:00</td>\n",
       "      <td>62.844500</td>\n",
       "      <td>-0.178961</td>\n",
       "    </tr>\n",
       "  </tbody>\n",
       "</table>\n",
       "<p>90 rows × 10 columns</p>\n",
       "</div>"
      ],
      "text/plain": [
       "                avg_price              max_price             min_price  \\\n",
       "1    99362062000000000000  150000000000000000000      5000000000000000   \n",
       "2    91256666000000000000  125000000000000000000  25005000000000000000   \n",
       "3    78194241000000000000  140000000000000000000      5000000000000000   \n",
       "4    87942750000000000000  131000000000000000000      5000000000000000   \n",
       "5    72576727000000000000  112690000000000000000      5000000000000000   \n",
       "..                    ...                    ...                   ...   \n",
       "86   70976639000000000000  228000000000000000000      5000000000000000   \n",
       "87  112657509000000000000  826205500000000000000  10005000000000000000   \n",
       "88   41710023000000000000  115000000000000000000      5000000000000000   \n",
       "89   76542625000000000000  149690000000000000000      5000000000000000   \n",
       "90   62844500000000000000  119005000000000000000      5000000000000000   \n",
       "\n",
       "                    time  trades  unique_buyers                  volume  \\\n",
       "1   2022-04-13T00:00:00Z      16             14  1589793000000000000000   \n",
       "2   2022-04-14T00:00:00Z       9              8   821310000000000000000   \n",
       "3   2022-04-15T00:00:00Z      18             18  1407496339000000000000   \n",
       "4   2022-04-16T00:00:00Z      10             10   879427500000000000000   \n",
       "5   2022-04-17T00:00:00Z      11              8   798344000000000000000   \n",
       "..                   ...     ...            ...                     ...   \n",
       "86  2022-07-07T00:00:00Z      23             11  1632462700000000000000   \n",
       "87  2022-07-08T00:00:00Z      22             10  2478465200000000000000   \n",
       "88  2022-07-09T00:00:00Z      21              7   875910500000000000000   \n",
       "89  2022-07-10T00:00:00Z      32             17  2449364000000000000000   \n",
       "90  2022-07-11T00:00:00Z      10              6   628445000000000000000   \n",
       "\n",
       "       transaction_date_time  avg_price_in_eth  pct_change  \n",
       "1  2022-04-13 00:00:00+00:00         99.362062   -0.328945  \n",
       "2  2022-04-14 00:00:00+00:00         91.256666   -0.081574  \n",
       "3  2022-04-15 00:00:00+00:00         78.194241   -0.143139  \n",
       "4  2022-04-16 00:00:00+00:00         87.942750    0.124670  \n",
       "5  2022-04-17 00:00:00+00:00         72.576727   -0.174728  \n",
       "..                       ...               ...         ...  \n",
       "86 2022-07-07 00:00:00+00:00         70.976639    0.021577  \n",
       "87 2022-07-08 00:00:00+00:00        112.657509    0.587248  \n",
       "88 2022-07-09 00:00:00+00:00         41.710023   -0.629763  \n",
       "89 2022-07-10 00:00:00+00:00         76.542625    0.835113  \n",
       "90 2022-07-11 00:00:00+00:00         62.844500   -0.178961  \n",
       "\n",
       "[90 rows x 10 columns]"
      ]
     },
     "metadata": {},
     "output_type": "display_data"
    },
    {
     "data": {
      "image/png": "[encoded data removed]",
      "text/plain": [
       "<Figure size 1440x720 with 1 Axes>"
      ]
     },
     "metadata": {
      "needs_background": "light"
     },
     "output_type": "display_data"
    }
   ],
   "source": [
    "# Set api key\n",
    "rarity_api_key = os.getenv('RARIFY_API_KEY')\n",
    "\n",
    "# Set base url\n",
    "base_url = \"https://api.rarify.tech/\"\n",
    "\n",
    "# Set blockchain\n",
    "blockchain = 'ethereum'\n",
    "\n",
    "# Set contract address for NFT collection\n",
    "collection = '0xBC4CA0EdA7647A8aB7C2061c2E118A18a936f13D'\n",
    "\n",
    "# Set period\n",
    "history_period = \"90d\"\n",
    "\n",
    "def get_historical_nft_prices(blockchain, collection, history_period):\n",
    "    url = f\"{base_url}/data/contracts/{blockchain}:{collection}/insights/{history_period}\"\n",
    "    headers = {\"Authorization\": rarity_api_key}\n",
    "    result = requests.get(url, headers=headers)\n",
    "    data = result.json()\n",
    "    \n",
    "    df = pd.DataFrame (data['included'][1]['attributes']['history'])\n",
    "    \n",
    "    # Convert time column to datetime and set as index\n",
    "    df['transaction_date_time'] = pd.to_datetime(df['time'])\n",
    "    df.set_index('transaction_date_time')\n",
    "    \n",
    "    # Create a new column and set to number of ETH (move decimal 18 places)\n",
    "    df['avg_price_in_eth'] = df['avg_price'].astype(float) / 1000000000000000000\n",
    "    \n",
    "    # Create a new column and set to daily pct_change in avg ETH sale price\n",
    "    df['pct_change'] = df['avg_price_in_eth'].pct_change()\n",
    " \n",
    "    # Pllot the daily avg_price\n",
    "    df['avg_price_in_eth'].plot(figsize=(20,10),title=\"Average Daily Price for Bored Ape Collection\") \n",
    "\n",
    "    # Plot the daily pct_change in avg_price\n",
    "    #df['pct_change'].plot(figsize=(20,10),title=\"Average Daily Returns for Bored Ape Collection\")\n",
    "    \n",
    "    display(df.dropna())\n",
    "    \n",
    "    \n",
    "# Call the function and pass arguments\n",
    "get_historical_nft_prices(blockchain, collection, history_period)"
   ]
  },
  {
   "cell_type": "markdown",
   "id": "734f5d9c-7ccf-4552-8f66-b5b37013153f",
   "metadata": {},
   "source": [
    "## Get historical price data for a specific NFT"
   ]
  },
  {
   "cell_type": "code",
   "execution_count": 41,
   "id": "7e0dd009-77fd-4330-a698-6d845a2bc1be",
   "metadata": {},
   "outputs": [
    {
     "data": {
      "text/plain": [
       "{'data': {'id': 'ethereum:1a92f7381b9f03921564a437210bb9396471050c:2574:365d',\n",
       "  'type': 'insights',\n",
       "  'relationships': {'history': {'data': {'id': 'ethereum:1a92f7381b9f03921564a437210bb9396471050c:2574:365d',\n",
       "     'type': 'insights-history'}},\n",
       "   'insights': {'data': {'id': 'ethereum:1a92f7381b9f03921564a437210bb9396471050c:2574:365d',\n",
       "     'type': 'insights-overview'}}}},\n",
       " 'included': [{'id': 'ethereum:1a92f7381b9f03921564a437210bb9396471050c:2574:365d',\n",
       "   'type': 'insights-overview',\n",
       "   'attributes': {'avg_price': '4675000000000000000',\n",
       "    'max_price': '5400000000000000000',\n",
       "    'min_price': '3950000000000000000',\n",
       "    'payment_asset': {'code': 'ETH',\n",
       "     'image_url': 'https://rarify-public.s3.amazonaws.com/eth_logo.svg'},\n",
       "    'period': '365d',\n",
       "    'trades': 2,\n",
       "    'unique_buyers': 2,\n",
       "    'volume': '9350000000000000000'}},\n",
       "  {'id': 'ethereum:1a92f7381b9f03921564a437210bb9396471050c:2574:365d',\n",
       "   'type': 'insights-history',\n",
       "   'attributes': {'history': [{'avg_price': '5400000000000000000',\n",
       "      'max_price': '5400000000000000000',\n",
       "      'min_price': '5400000000000000000',\n",
       "      'time': '2021-08-30T00:00:00Z',\n",
       "      'trades': 1,\n",
       "      'unique_buyers': 1,\n",
       "      'volume': '5400000000000000000'},\n",
       "     {'avg_price': '3950000000000000000',\n",
       "      'max_price': '3950000000000000000',\n",
       "      'min_price': '3950000000000000000',\n",
       "      'time': '2022-06-19T00:00:00Z',\n",
       "      'trades': 1,\n",
       "      'unique_buyers': 1,\n",
       "      'volume': '3950000000000000000'}],\n",
       "    'payment_asset': {'code': 'ETH',\n",
       "     'image_url': 'https://rarify-public.s3.amazonaws.com/eth_logo.svg'}}}]}"
      ]
     },
     "metadata": {},
     "output_type": "display_data"
    },
    {
     "data": {
      "text/html": [
       "<div>\n",
       "<style scoped>\n",
       "    .dataframe tbody tr th:only-of-type {\n",
       "        vertical-align: middle;\n",
       "    }\n",
       "\n",
       "    .dataframe tbody tr th {\n",
       "        vertical-align: top;\n",
       "    }\n",
       "\n",
       "    .dataframe thead th {\n",
       "        text-align: right;\n",
       "    }\n",
       "</style>\n",
       "<table border=\"1\" class=\"dataframe\">\n",
       "  <thead>\n",
       "    <tr style=\"text-align: right;\">\n",
       "      <th></th>\n",
       "      <th>avg_price</th>\n",
       "      <th>max_price</th>\n",
       "      <th>min_price</th>\n",
       "      <th>time</th>\n",
       "      <th>trades</th>\n",
       "      <th>unique_buyers</th>\n",
       "      <th>volume</th>\n",
       "      <th>transaction_date_time</th>\n",
       "    </tr>\n",
       "  </thead>\n",
       "  <tbody>\n",
       "    <tr>\n",
       "      <th>0</th>\n",
       "      <td>5400000000000000000</td>\n",
       "      <td>5400000000000000000</td>\n",
       "      <td>5400000000000000000</td>\n",
       "      <td>2021-08-30T00:00:00Z</td>\n",
       "      <td>1</td>\n",
       "      <td>1</td>\n",
       "      <td>5400000000000000000</td>\n",
       "      <td>2021-08-30 00:00:00+00:00</td>\n",
       "    </tr>\n",
       "    <tr>\n",
       "      <th>1</th>\n",
       "      <td>3950000000000000000</td>\n",
       "      <td>3950000000000000000</td>\n",
       "      <td>3950000000000000000</td>\n",
       "      <td>2022-06-19T00:00:00Z</td>\n",
       "      <td>1</td>\n",
       "      <td>1</td>\n",
       "      <td>3950000000000000000</td>\n",
       "      <td>2022-06-19 00:00:00+00:00</td>\n",
       "    </tr>\n",
       "  </tbody>\n",
       "</table>\n",
       "</div>"
      ],
      "text/plain": [
       "             avg_price            max_price            min_price  \\\n",
       "0  5400000000000000000  5400000000000000000  5400000000000000000   \n",
       "1  3950000000000000000  3950000000000000000  3950000000000000000   \n",
       "\n",
       "                   time  trades  unique_buyers               volume  \\\n",
       "0  2021-08-30T00:00:00Z       1              1  5400000000000000000   \n",
       "1  2022-06-19T00:00:00Z       1              1  3950000000000000000   \n",
       "\n",
       "      transaction_date_time  \n",
       "0 2021-08-30 00:00:00+00:00  \n",
       "1 2022-06-19 00:00:00+00:00  "
      ]
     },
     "metadata": {},
     "output_type": "display_data"
    }
   ],
   "source": [
    "\n",
    "# Set api key\n",
    "rarity_api_key = os.getenv('RARIFY_API_KEY')\n",
    "\n",
    "# Set base url\n",
    "base_url = \"https://api.rarify.tech/\"\n",
    "\n",
    "# Set blockchain\n",
    "blockchain = 'ethereum'\n",
    "\n",
    "# Set contract address for NFT collection\n",
    "collection = '0x1a92f7381b9f03921564a437210bb9396471050c'\n",
    "\n",
    "# Set token_id (decimal ID on sites like OpenSea must be converted to hex)\n",
    "token_id = \"2574\"\n",
    "\n",
    "# set the period of time for historical prices\n",
    "historical_period = \"365d\"\n",
    "\n",
    "def get_historical_nft_prices_single(blockchain, collection, token_id):\n",
    "    url = f\"{base_url}/data/tokens/{blockchain}:{collection}:{token_id}/insights/{historical_period}\"\n",
    "    headers = {\"Authorization\": rarity_api_key}\n",
    "    result = requests.get(url, headers=headers)\n",
    "    data = result.json()\n",
    "    \n",
    "    display(data)\n",
    "    \n",
    "    df = pd.DataFrame (data['included'][1]['attributes']['history'])\n",
    "    \n",
    "    # Convert time column to datetime and set as index\n",
    "    df['transaction_date_time'] = pd.to_datetime(df['time'])\n",
    "    df.set_index('transaction_date_time')\n",
    "    \n",
    "    display(df)\n",
    "    \n",
    "# Call the function and pass arguments\n",
    "get_historical_nft_prices_single(blockchain, collection, token_id)"
   ]
  },
  {
   "cell_type": "markdown",
   "id": "7dcc2bb2-4881-44d4-b3e2-c97f772f75ab",
   "metadata": {},
   "source": [
    "## Get NFT collection and display collection image"
   ]
  },
  {
   "cell_type": "code",
   "execution_count": 84,
   "id": "28f4bf07-6cc9-4aba-a578-8a638497ac36",
   "metadata": {},
   "outputs": [],
   "source": [
    "# Import the Image library so we can display image of an NFT\n",
    "from IPython.display import Image\n",
    "\n",
    "# Example viewinf an image from a URL\n",
    "# Image(url=\"https://rarify-public.s3.amazonaws.com/cryptopunks.png\")\n"
   ]
  },
  {
   "cell_type": "code",
   "execution_count": 86,
   "id": "cd5b1058-8753-4f8a-bdc7-f7435b292e97",
   "metadata": {},
   "outputs": [
    {
     "name": "stdout",
     "output_type": "stream",
     "text": [
      "{\n",
      "    \"data\": {\n",
      "        \"attributes\": {\n",
      "            \"address\": \"b47e3cd837ddf8e4c57f05d70ab865de6e193bbb\",\n",
      "            \"description\": \"CryptoPunks launched as a fixed set of 10,000 items in mid-2017 and became one of the inspirations for the ERC-721 standard. They have been featured in places like The New York Times, Christie\\u2019s of London, Art|Basel Miami, and The PBS NewsHour.\",\n",
      "            \"external_url\": \"https://www.larvalabs.com/cryptopunks\",\n",
      "            \"image_preview_large_url\": \"https://imgs.rarify.tech/UX6LA8ImwY1UxXCEZr-g8jT4FZfvZWBatWJh0HUW48w/rs:fit:1000:1000/q:87/aHR0cHM6Ly9yYXJpZnktcHVibGljLnMzLmFtYXpvbmF3cy5jb20vY3J5cHRvcHVua3MucG5n.webp\",\n",
      "            \"image_preview_small_url\": \"https://imgs.rarify.tech/qVaO0gF0MMyC2tvz-b7yrS8K_-a4F9Kuj3wrP_5kW2c/rs:fit:500:500/q:87/aHR0cHM6Ly9yYXJpZnktcHVibGljLnMzLmFtYXpvbmF3cy5jb20vY3J5cHRvcHVua3MucG5n.webp\",\n",
      "            \"image_url\": \"https://rarify-public.s3.amazonaws.com/cryptopunks.png\",\n",
      "            \"name\": \"CryptoPunks\",\n",
      "            \"network\": \"ethereum\",\n",
      "            \"primary_interface\": \"crypto_punk\",\n",
      "            \"royalties_fee_basic_points\": 0,\n",
      "            \"royalties_receiver\": \"\",\n",
      "            \"tokens\": 10000,\n",
      "            \"unique_owners\": 3392\n",
      "        },\n",
      "        \"id\": \"ethereum:b47e3cd837ddf8e4c57f05d70ab865de6e193bbb\",\n",
      "        \"relationships\": {},\n",
      "        \"type\": \"contracts\"\n",
      "    },\n",
      "    \"included\": []\n",
      "}\n"
     ]
    },
    {
     "data": {
      "text/html": [
       "<img src=\"https://imgs.rarify.tech/qVaO0gF0MMyC2tvz-b7yrS8K_-a4F9Kuj3wrP_5kW2c/rs:fit:500:500/q:87/aHR0cHM6Ly9yYXJpZnktcHVibGljLnMzLmFtYXpvbmF3cy5jb20vY3J5cHRvcHVua3MucG5n.webp\"/>"
      ],
      "text/plain": [
       "<IPython.core.display.Image object>"
      ]
     },
     "execution_count": 86,
     "metadata": {},
     "output_type": "execute_result"
    }
   ],
   "source": [
    "def get_nft_collection(blockchain, collection):\n",
    "    url = f\"{base_url}/data/contracts/{blockchain}:{collection}\"\n",
    "    headers = {\"Authorization\": rarity_api_key}\n",
    "    result = requests.get(url, headers=headers)\n",
    "    data = result.json()\n",
    "    return data\n",
    "\n",
    "response = get_nft_collection(\"ethereum\", \"b47e3cd837ddf8e4c57f05d70ab865de6e193bbb\")\n",
    "image_url = response[\"data\"][\"attributes\"][\"image_preview_small_url\"]\n",
    "\n",
    "print(json.dumps(response, indent=4, sort_keys=True))\n",
    "\n",
    "Image(url=image_url)\n"
   ]
  },
  {
   "cell_type": "code",
   "execution_count": null,
   "id": "9656197b-0557-4f61-a33c-a1c5c91cbc7a",
   "metadata": {},
   "outputs": [],
   "source": []
  },
  {
   "cell_type": "code",
   "execution_count": null,
   "id": "f75c98db-9b9a-4e15-876b-761cc6445a10",
   "metadata": {},
   "outputs": [],
   "source": []
  }
 ],
 "metadata": {
  "kernelspec": {
   "display_name": "Python 3 (ipykernel)",
   "language": "python",
   "name": "python3"
  },
  "language_info": {
   "codemirror_mode": {
    "name": "ipython",
    "version": 3
   },
   "file_extension": ".py",
   "mimetype": "text/x-python",
   "name": "python",
   "nbconvert_exporter": "python",
   "pygments_lexer": "ipython3",
   "version": "3.7.13"
  }
 },
 "nbformat": 4,
 "nbformat_minor": 5
}
